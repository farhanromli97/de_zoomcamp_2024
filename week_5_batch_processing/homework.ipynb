{
 "cells": [
  {
   "cell_type": "code",
   "execution_count": 25,
   "id": "df287195-f996-454a-bae2-5d31c3da07ec",
   "metadata": {},
   "outputs": [],
   "source": [
    "import pyspark\n",
    "from pyspark.sql import SparkSession\n",
    "from pyspark.sql import types"
   ]
  },
  {
   "cell_type": "code",
   "execution_count": 3,
   "id": "1827b02c-078f-4bbe-b0af-ce062289944d",
   "metadata": {},
   "outputs": [
    {
     "name": "stderr",
     "output_type": "stream",
     "text": [
      "Setting default log level to \"WARN\".\n",
      "To adjust logging level use sc.setLogLevel(newLevel). For SparkR, use setLogLevel(newLevel).\n",
      "24/03/03 11:42:13 WARN NativeCodeLoader: Unable to load native-hadoop library for your platform... using builtin-java classes where applicable\n",
      "24/03/03 11:42:27 WARN GarbageCollectionMetrics: To enable non-built-in garbage collector(s) List(G1 Concurrent GC), users should configure it(them) to spark.eventLog.gcMetrics.youngGenerationGarbageCollectors or spark.eventLog.gcMetrics.oldGenerationGarbageCollectors\n"
     ]
    }
   ],
   "source": [
    "spark = SparkSession.builder \\\n",
    "    .master(\"local[*]\") \\\n",
    "    .appName('test') \\\n",
    "    .getOrCreate()\n"
   ]
  },
  {
   "cell_type": "code",
   "execution_count": 7,
   "id": "3b0ae288-01ef-4f27-8140-67cae11c8fba",
   "metadata": {},
   "outputs": [
    {
     "data": {
      "text/plain": [
       "'3.5.0'"
      ]
     },
     "execution_count": 7,
     "metadata": {},
     "output_type": "execute_result"
    }
   ],
   "source": [
    "spark.version"
   ]
  },
  {
   "cell_type": "code",
   "execution_count": 40,
   "id": "d8f958e8-bdd6-41fd-957e-4e99dd3c828b",
   "metadata": {},
   "outputs": [
    {
     "name": "stderr",
     "output_type": "stream",
     "text": [
      "                                                                                \r"
     ]
    }
   ],
   "source": [
    "df = spark.read \\\n",
    "    .option(\"header\", \"true\") \\\n",
    "    .option(\"inferSchema\", \"true\") \\\n",
    "    .csv('fhv_tripdata_2019-10.csv.gz')"
   ]
  },
  {
   "cell_type": "code",
   "execution_count": 6,
   "id": "608b1ad3-c1fc-4712-b8f4-474b262fa762",
   "metadata": {},
   "outputs": [
    {
     "name": "stdout",
     "output_type": "stream",
     "text": [
      "root\n",
      " |-- dispatching_base_num: string (nullable = true)\n",
      " |-- pickup_datetime: timestamp (nullable = true)\n",
      " |-- dropOff_datetime: timestamp (nullable = true)\n",
      " |-- PUlocationID: integer (nullable = true)\n",
      " |-- DOlocationID: integer (nullable = true)\n",
      " |-- SR_Flag: string (nullable = true)\n",
      " |-- Affiliated_base_number: string (nullable = true)\n",
      "\n"
     ]
    }
   ],
   "source": [
    "df.printSchema()"
   ]
  },
  {
   "cell_type": "code",
   "execution_count": 8,
   "id": "42edf8a5-525e-4860-907d-12e2b9379fab",
   "metadata": {},
   "outputs": [
    {
     "name": "stderr",
     "output_type": "stream",
     "text": [
      "                                                                                \r"
     ]
    }
   ],
   "source": [
    "df.repartition(6) \\\n",
    "    .write.parquet('fhv/2019/10')"
   ]
  },
  {
   "cell_type": "code",
   "execution_count": 10,
   "id": "30f5a9ba-5b12-4f48-abd2-be186d508573",
   "metadata": {},
   "outputs": [
    {
     "name": "stdout",
     "output_type": "stream",
     "text": [
      "+--------------------+-------------------+-------------------+------------+------------+-------+----------------------+\n",
      "|dispatching_base_num|    pickup_datetime|   dropOff_datetime|PUlocationID|DOlocationID|SR_Flag|Affiliated_base_number|\n",
      "+--------------------+-------------------+-------------------+------------+------------+-------+----------------------+\n",
      "|              B00009|2019-10-01 00:23:00|2019-10-01 00:35:00|         264|         264|   NULL|                B00009|\n",
      "|              B00013|2019-10-01 00:11:29|2019-10-01 00:13:22|         264|         264|   NULL|                B00013|\n",
      "|              B00014|2019-10-01 00:11:43|2019-10-01 00:37:20|         264|         264|   NULL|                B00014|\n",
      "|              B00014|2019-10-01 00:56:29|2019-10-01 00:57:47|         264|         264|   NULL|                B00014|\n",
      "|              B00014|2019-10-01 00:23:09|2019-10-01 00:28:27|         264|         264|   NULL|                B00014|\n",
      "+--------------------+-------------------+-------------------+------------+------------+-------+----------------------+\n",
      "only showing top 5 rows\n",
      "\n"
     ]
    }
   ],
   "source": [
    "df.show(5)"
   ]
  },
  {
   "cell_type": "code",
   "execution_count": 11,
   "id": "90379d82-02b9-4e64-8fd7-720bbcbdf279",
   "metadata": {},
   "outputs": [],
   "source": [
    "df.createOrReplaceTempView('fhv_trips')"
   ]
  },
  {
   "cell_type": "code",
   "execution_count": 16,
   "id": "11aa78dd-3c32-4413-84c3-7bb2bacc9589",
   "metadata": {},
   "outputs": [
    {
     "name": "stderr",
     "output_type": "stream",
     "text": [
      "[Stage 11:>                                                         (0 + 1) / 1]\r"
     ]
    },
    {
     "name": "stdout",
     "output_type": "stream",
     "text": [
      "+--------+\n",
      "|count(1)|\n",
      "+--------+\n",
      "|   62610|\n",
      "+--------+\n",
      "\n"
     ]
    },
    {
     "name": "stderr",
     "output_type": "stream",
     "text": [
      "                                                                                \r"
     ]
    }
   ],
   "source": [
    "spark.sql(\"\"\"\n",
    "SELECT count(*)\n",
    "FROM fhv_trips\n",
    "WHERE pickup_datetime between '2019-10-15 00:00:00' and '2019-10-15 23:59:59'\n",
    "\"\"\").show()"
   ]
  },
  {
   "cell_type": "code",
   "execution_count": 35,
   "id": "f19f6f01-903b-4024-9e5f-07cb12d72cb2",
   "metadata": {},
   "outputs": [
    {
     "name": "stderr",
     "output_type": "stream",
     "text": [
      "[Stage 24:>                                                         (0 + 1) / 1]\r"
     ]
    },
    {
     "name": "stdout",
     "output_type": "stream",
     "text": [
      "+--------------------+-------------------+-------------------+------------+------------+-------+----------------------+------------------+\n",
      "|dispatching_base_num|    pickup_datetime|   dropOff_datetime|PUlocationID|DOlocationID|SR_Flag|Affiliated_base_number|       DiffInHours|\n",
      "+--------------------+-------------------+-------------------+------------+------------+-------+----------------------+------------------+\n",
      "|              B02832|2019-10-11 18:00:00|2091-10-11 18:30:00|         264|         264|   NULL|                B02832|          631152.5|\n",
      "|              B02832|2019-10-28 09:00:00|2091-10-28 09:30:00|         264|         264|   NULL|                B02832|          631152.5|\n",
      "|              B02416|2019-10-31 23:46:33|2029-11-01 00:13:00|        NULL|        NULL|   NULL|                B02416| 87672.44083333333|\n",
      "|     B00746         |2019-10-01 21:43:42|2027-10-01 21:45:23|         159|         264|   NULL|       B00746         | 70128.02805555555|\n",
      "|              B02921|2019-10-17 14:00:00|2020-10-18 00:00:00|        NULL|        NULL|   NULL|                B03037|            8794.0|\n",
      "|              B03110|2019-10-26 21:26:00|2020-10-26 21:36:00|         264|         264|   NULL|                B03110| 8784.166666666666|\n",
      "|              B03080|2019-10-30 12:30:04|2019-12-30 13:02:08|         264|          50|   NULL|                B02883|1464.5344444444445|\n",
      "|     B03084         |2019-10-25 07:04:57|2019-12-08 07:54:33|         168|         235|   NULL|                B02765|1056.8266666666666|\n",
      "|     B03084         |2019-10-25 07:04:57|2019-12-08 07:21:11|         168|         235|   NULL|                B02765|1056.2705555555556|\n",
      "|              B01452|2019-10-01 13:47:17|2019-11-03 15:20:28|          44|         214|   NULL|                B01452| 793.5530555555556|\n",
      "|              B01452|2019-10-01 07:21:12|2019-11-03 08:44:21|           5|           6|   NULL|                B01452| 793.3858333333334|\n",
      "|              B01452|2019-10-01 13:41:00|2019-11-03 14:58:51|         206|         172|   NULL|                B01452|          793.2975|\n",
      "|              B01452|2019-10-01 18:43:20|2019-11-03 19:43:13|          23|           5|   NULL|                B01452| 792.9980555555555|\n",
      "|              B01452|2019-10-01 18:43:46|2019-11-03 19:43:04|         251|          44|   NULL|                B01452| 792.9883333333333|\n",
      "|              B01452|2019-10-01 07:07:09|2019-11-03 07:58:46|         204|          23|   NULL|                B01452| 792.8602777777778|\n",
      "|              B01452|2019-10-01 14:49:28|2019-11-03 15:38:07|         214|         156|   NULL|                B01452| 792.8108333333333|\n",
      "|              B01452|2019-10-01 05:36:30|2019-11-03 06:23:36|         214|          84|   NULL|                B01452|           792.785|\n",
      "|              B00972|2019-10-01 15:02:55|2019-11-03 15:49:05|         204|           1|   NULL|                B00972| 792.7694444444444|\n",
      "|              B00972|2019-10-01 06:08:01|2019-11-03 06:53:15|         156|         204|   NULL|                B00972| 792.7538888888889|\n",
      "|              B01452|2019-10-01 06:41:17|2019-11-03 07:26:04|          44|          23|   NULL|                B01452| 792.7463888888889|\n",
      "+--------------------+-------------------+-------------------+------------+------------+-------+----------------------+------------------+\n",
      "only showing top 20 rows\n",
      "\n"
     ]
    },
    {
     "name": "stderr",
     "output_type": "stream",
     "text": [
      "                                                                                \r"
     ]
    }
   ],
   "source": [
    "df.withColumn(\"DiffInHours\",(df.dropOff_datetime.cast(types.LongType()) - df.pickup_datetime.cast(types.LongType()))/3600) \\\n",
    "  .sort(\"DiffInHours\", ascending=False) \\\n",
    "  .show()\n"
   ]
  },
  {
   "cell_type": "code",
   "execution_count": 45,
   "id": "722b47c2-1b4e-496b-9403-cb3542ab307d",
   "metadata": {},
   "outputs": [
    {
     "name": "stderr",
     "output_type": "stream",
     "text": [
      "[Stage 34:>                                                         (0 + 1) / 1]\r"
     ]
    },
    {
     "name": "stdout",
     "output_type": "stream",
     "text": [
      "+------------+------------+\n",
      "|PUlocationID|record_count|\n",
      "+------------+------------+\n",
      "|           2|           1|\n",
      "|         105|           2|\n",
      "|         111|           5|\n",
      "|          30|           8|\n",
      "|         120|          14|\n",
      "|          12|          15|\n",
      "|         207|          23|\n",
      "|          27|          25|\n",
      "|         154|          26|\n",
      "|           8|          29|\n",
      "|         128|          39|\n",
      "|         253|          47|\n",
      "|          96|          53|\n",
      "|          34|          57|\n",
      "|          59|          62|\n",
      "|          58|          77|\n",
      "|          99|          89|\n",
      "|         190|          98|\n",
      "|          54|         105|\n",
      "|         217|         110|\n",
      "+------------+------------+\n",
      "only showing top 20 rows\n",
      "\n"
     ]
    },
    {
     "name": "stderr",
     "output_type": "stream",
     "text": [
      "                                                                                \r"
     ]
    }
   ],
   "source": [
    "spark.sql(\"\"\"\n",
    "SELECT PUlocationID, count(*) record_count\n",
    "FROM fhv_trips\n",
    "group by PUlocationID\n",
    "order by record_count\n",
    "\"\"\").show()"
   ]
  },
  {
   "cell_type": "code",
   "execution_count": 41,
   "id": "8c829874-ff5d-4f1d-9cf3-7e6deb273b40",
   "metadata": {},
   "outputs": [],
   "source": [
    "df_zone = spark.read \\\n",
    "    .option(\"header\", \"true\") \\\n",
    "    .option(\"inferSchema\", \"true\") \\\n",
    "    .parquet('test_pyspark/zones')"
   ]
  },
  {
   "cell_type": "code",
   "execution_count": 46,
   "id": "59629f93-897a-407a-a006-cd688618e116",
   "metadata": {},
   "outputs": [
    {
     "name": "stdout",
     "output_type": "stream",
     "text": [
      "+----------+-------+-----------+------------+\n",
      "|LocationID|Borough|       Zone|service_zone|\n",
      "+----------+-------+-----------+------------+\n",
      "|         2| Queens|Jamaica Bay|   Boro Zone|\n",
      "+----------+-------+-----------+------------+\n",
      "\n"
     ]
    }
   ],
   "source": [
    "df_zone.filter(df_zone.LocationID == 2).show()"
   ]
  },
  {
   "cell_type": "code",
   "execution_count": null,
   "id": "005f5715-be5f-474d-ad43-6f851c20ebea",
   "metadata": {},
   "outputs": [],
   "source": []
  }
 ],
 "metadata": {
  "kernelspec": {
   "display_name": "Python 3 (ipykernel)",
   "language": "python",
   "name": "python3"
  },
  "language_info": {
   "codemirror_mode": {
    "name": "ipython",
    "version": 3
   },
   "file_extension": ".py",
   "mimetype": "text/x-python",
   "name": "python",
   "nbconvert_exporter": "python",
   "pygments_lexer": "ipython3",
   "version": "3.12.1"
  }
 },
 "nbformat": 4,
 "nbformat_minor": 5
}
